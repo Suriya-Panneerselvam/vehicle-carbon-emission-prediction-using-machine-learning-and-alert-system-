{
  "nbformat": 4,
  "nbformat_minor": 0,
  "metadata": {
    "colab": {
      "provenance": [],
      "gpuType": "T4",
      "mount_file_id": "17FNIWEWAxS-LIrhGxr2UmGfBHD3GTalu",
      "authorship_tag": "ABX9TyPNlpiFnPfZZpc8oYFaDwAD",
      "include_colab_link": true
    },
    "kernelspec": {
      "name": "python3",
      "display_name": "Python 3"
    },
    "language_info": {
      "name": "python"
    },
    "accelerator": "GPU"
  },
  "cells": [
    {
      "cell_type": "markdown",
      "metadata": {
        "id": "view-in-github",
        "colab_type": "text"
      },
      "source": [
        "<a href=\"https://colab.research.google.com/github/Suriya-Panneerselvam/vehicle-carbon-emission-prediction-using-machine-learning-and-alert-system-/blob/main/carbonemission.ipynb\" target=\"_parent\"><img src=\"https://colab.research.google.com/assets/colab-badge.svg\" alt=\"Open In Colab\"/></a>"
      ]
    },
    {
      "cell_type": "code",
      "execution_count": null,
      "metadata": {
        "collapsed": true,
        "id": "gpqVMXKkFJYK",
        "colab": {
          "base_uri": "https://localhost:8080/"
        },
        "outputId": "40703f0e-eb05-4750-9dc7-e313d79a737e"
      },
      "outputs": [
        {
          "output_type": "stream",
          "name": "stdout",
          "text": [
            "Make: Audi\n",
            "Model: A3 40 TFSI quattro\n",
            "Vehicle Class: Subcompact\n",
            "Engine Size (L): 2\n",
            "Cylinders: 4\n",
            "Transmission: AM7\n",
            "Fuel Type: X\n",
            "Fuel Consumption (L/100Km): 8.7\n",
            "Hwy (L/100 km): 6.8\n",
            "Comb (L/100 km): 7.9\n",
            "Comb (mpg): 36\n",
            "\n",
            "CO₂ Emissions (g/km): 183.78\n",
            "Estimated CO₂ Rating: 6.0\n",
            "Estimated Smog Rating: 7.0\n",
            "CO₂ emissions are within safe limits.\n"
          ]
        }
      ],
      "source": [
        "import pandas as pd\n",
        "import numpy as np\n",
        "from sklearn.model_selection import train_test_split\n",
        "from sklearn.preprocessing import OneHotEncoder\n",
        "from sklearn.compose import ColumnTransformer\n",
        "from sklearn.metrics import accuracy_score\n",
        "from sklearn.ensemble import RandomForestRegressor\n",
        "import pickle\n",
        "\n",
        "# Load Dataset\n",
        "df = pd.read_csv(\"/content/drive/MyDrive/Colab Notebooks/Fuel Consumption Ratings 2023.csv\", encoding='ISO-8859-1')\n",
        "df = df.dropna(subset=[\"CO2 Emissions (g/km)\"])\n",
        "\n",
        "if 'Year' in df.columns:\n",
        "    df = df.drop(columns=['Year'])\n",
        "\n",
        "# Features & Target\n",
        "X = df.drop(columns=[\"CO2 Emissions (g/km)\", \"CO2 Rating\", \"Smog Rating\"])\n",
        "y = df[\"CO2 Emissions (g/km)\"]\n",
        "\n",
        "# Preprocess\n",
        "cat_cols = X.select_dtypes(include=[\"object\"]).columns.tolist()\n",
        "num_cols = X.select_dtypes(exclude=[\"object\"]).columns.tolist()\n",
        "\n",
        "preprocessor = ColumnTransformer([\n",
        "    (\"cat\", OneHotEncoder(handle_unknown=\"ignore\"), cat_cols),\n",
        "    (\"num\", \"passthrough\", num_cols)\n",
        "])\n",
        "X_processed = preprocessor.fit_transform(X)\n",
        "\n",
        "# Split & Train\n",
        "X_train, X_test, y_train, y_test = train_test_split(X_processed, y, test_size=0.2, random_state=42)\n",
        "model = RandomForestRegressor(n_estimators=100, random_state=42)\n",
        "model.fit(X_train, y_train)\n",
        "\n",
        "# Save model\n",
        "with open(\"co2_emission_model.pkl\", \"wb\") as f:\n",
        "    pickle.dump({\"model\": model, \"preprocessor\": preprocessor}, f)\n",
        "\n",
        "# Prediction function\n",
        "def predict_with_alert(input_data):\n",
        "    with open(\"co2_emission_model.pkl\", \"rb\") as f:\n",
        "        saved = pickle.load(f)\n",
        "    model_loaded = saved[\"model\"]\n",
        "    preprocessor_loaded = saved[\"preprocessor\"]\n",
        "\n",
        "    # Predict emissions\n",
        "    X_new = preprocessor_loaded.transform(pd.DataFrame([input_data]))\n",
        "    prediction = model_loaded.predict(X_new)[0]\n",
        "\n",
        "    # Find closest match in dataset for ratings\n",
        "    closest_row = df.iloc[(df[\"CO2 Emissions (g/km)\"] - prediction).abs().argsort()[:1]]\n",
        "    co2_rating = closest_row[\"CO2 Rating\"].values[0]\n",
        "    smog_rating = closest_row[\"Smog Rating\"].values[0]\n",
        "\n",
        "    # Output\n",
        "    print(f\"\\nCO₂ Emissions (g/km): {prediction:.2f}\")\n",
        "    print(f\"Estimated CO₂ Rating: {co2_rating}\")\n",
        "    print(f\"Estimated Smog Rating: {smog_rating}\")\n",
        "\n",
        "    if prediction > 250:\n",
        "        print(\"ALERT: High CO₂ Emissions!\")\n",
        "    else:\n",
        "        print(\"CO₂ emissions are within safe limits.\")\n",
        "\n",
        "# User input\n",
        "new_data_dict = {\n",
        "    'Make': input('Make: '),\n",
        "    'Model': input('Model: '),\n",
        "    'Vehicle Class': input('Vehicle Class: '),\n",
        "    'Engine Size (L)': float(input('Engine Size (L): ')),\n",
        "    'Cylinders': input('Cylinders: '),  # Keep as string to avoid int conversion errors\n",
        "    'Transmission': input('Transmission: '),\n",
        "    'Fuel Type': input('Fuel Type: '),\n",
        "    'Fuel Consumption (L/100Km)': float(input('Fuel Consumption (L/100Km): ')),\n",
        "    'Hwy (L/100 km)': float(input('Hwy (L/100 km): ')),\n",
        "    'Comb (L/100 km)': float(input('Comb (L/100 km): ')),\n",
        "    'Comb (mpg)': float(input('Comb (mpg): '))\n",
        "}\n",
        "\n",
        "predict_with_alert(new_data_dict)"
      ]
    }
  ]
}